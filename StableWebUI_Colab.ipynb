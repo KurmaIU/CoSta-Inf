{
  "nbformat": 4,
  "nbformat_minor": 0,
  "metadata": {
    "colab": {
      "provenance": [],
      "gpuType": "T4"
    },
    "kernelspec": {
      "name": "python3",
      "display_name": "Python 3"
    },
    "language_info": {
      "name": "python"
    },
    "accelerator": "GPU"
  },
  "cells": [
    {
      "cell_type": "code",
      "execution_count": null,
      "metadata": {
        "id": "4Y-5OfG9tShm"
      },
      "outputs": [],
      "source": [
        "# Drive + Update + Git Clone + Install Dependencies + StableWebUi-Colab-Fix + Install StableWebUix + Automatic Launch\n",
        "\n",
        "!rm -rf /content/StableWebUi-Colab-Fix\n",
        "\n",
        "from google.colab import output\n",
        "from google.colab import drive\n",
        "drive.mount('/content/drive')\n",
        "\n",
        "!sudo apt update\n",
        "!sudo apt upgrade\n",
        "!python -m pip install --upgrade pip\n",
        "!pip install --upgrade *\n",
        "\n",
        "output.clear()\n",
        "\n",
        "!git clone https://github.com/AUTOMATIC1111/stable-diffusion-webui.git /content/drive/MyDrive/AI-Stable/\n",
        "\n",
        "output.clear()\n",
        "\n",
        "!rm /content/drive/MyDrive/AI-Stable/webui.sh\n",
        "!git clone https://github.com/KurmaIU/StableWebUi-Colab-Fix.git\n",
        "!mv /content/StableWebUi-Colab-Fix/webui.sh /content/drive/MyDrive/AI-Stable\n",
        "\n",
        "!rm /content/drive/MyDrive/AI-Stable/modules/launch_utils.py\n",
        "!mv /content/StableWebUi-Colab-Fix/launch_utils.py /content/drive/MyDrive/AI-Stable/modules/\n",
        "\n",
        "output.clear()\n",
        "\n",
        "!chmod +x /content/drive/MyDrive/AI-Stable/webui.sh\n",
        "!/content/drive/MyDrive/AI-Stable/webui.sh"
      ]
    },
    {
      "cell_type": "code",
      "source": [
        "# Launch from Drive + Fix\n",
        "\n",
        "from google.colab import drive\n",
        "drive.mount('/content/drive')\n",
        "\n",
        "!pip uninstall wandb -y\n",
        "!pip install wandb==0.15.12\n",
        "\n",
        "!python /content/drive/MyDrive/AI-Stable/launch.py --share --listen --xformers"
      ],
      "metadata": {
        "id": "raqKeuxVLfXS"
      },
      "execution_count": null,
      "outputs": []
    },
    {
      "cell_type": "code",
      "source": [
        "#Remove Everything (StableWebUi on Drive + StableWebUi-Colab-Fix)\n",
        "\n",
        "!rm -rf /content/StableWebUi-Colab-Fix\n",
        "!rm -rf /content/drive/MyDrive/AI-Stable"
      ],
      "metadata": {
        "id": "CD3gwDw_9mWu"
      },
      "execution_count": null,
      "outputs": []
    }
  ]
}